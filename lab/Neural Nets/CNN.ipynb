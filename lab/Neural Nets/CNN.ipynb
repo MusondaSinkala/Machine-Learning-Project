{
 "cells": [
  {
   "cell_type": "code",
   "execution_count": 1,
   "id": "initial_id",
   "metadata": {
    "collapsed": true,
    "ExecuteTime": {
     "end_time": "2024-04-22T15:39:20.753664Z",
     "start_time": "2024-04-22T15:39:12.344891Z"
    }
   },
   "outputs": [],
   "source": [
    "import tensorflow as tf\n",
    "from tensorflow.keras.preprocessing import image_dataset_from_directory\n",
    "from tensorflow.keras.models import Sequential\n",
    "from tensorflow.keras.layers import BatchNormalization, Conv2D, Flatten, Dense, MaxPooling2D, RandomFlip, RandomRotation, RandomZoom, RandomTranslation, Dropout, Rescaling\n",
    "from tensorflow.keras.callbacks import EarlyStopping\n",
    "from tensorflow.keras.optimizers import Adagrad\n",
    "from tensorflow.keras.utils import to_categorical\n",
    "from tensorflow.data import AUTOTUNE\n",
    "import os\n",
    "from pathlib import Path"
   ]
  },
  {
   "cell_type": "code",
   "outputs": [],
   "source": [
    "RANDOM_SEED=4\n",
    "BASE_PATH = os.path.join(Path(os.getcwd()).resolve().parents[1], \"Data\")\n",
    "# BASE_PATH = os.path.join(os.getcwd(), \"Data\")\n",
    "assert os.path.isdir(BASE_PATH), f'Data Directory is required: {BASE_PATH}'\n",
    "BATCH_SIZE = 1024\n",
    "EPOCHS = 2\n",
    "TRAIN_PATH = os.path.sep.join([BASE_PATH, \"training\"])\n",
    "VAL_PATH = os.path.sep.join([BASE_PATH, \"validation\"])\n",
    "TEST_PATH = os.path.sep.join([BASE_PATH, \"testing\"])\n",
    "\n",
    "tf.random.set_seed(RANDOM_SEED)"
   ],
   "metadata": {
    "collapsed": false,
    "ExecuteTime": {
     "end_time": "2024-04-22T15:39:20.760421Z",
     "start_time": "2024-04-22T15:39:20.750207Z"
    }
   },
   "id": "114b1fca2c9585e0",
   "execution_count": 2
  },
  {
   "cell_type": "code",
   "outputs": [
    {
     "name": "stdout",
     "output_type": "stream",
     "text": [
      "Found 176794 files belonging to 2 classes.\n",
      "Found 49334 files belonging to 2 classes.\n",
      "Found 51396 files belonging to 2 classes.\n"
     ]
    }
   ],
   "source": [
    "train_data = image_dataset_from_directory(TRAIN_PATH, image_size=(50,50), label_mode='binary',\n",
    "                                  seed=RANDOM_SEED, shuffle=True, batch_size=BATCH_SIZE)\n",
    "val_data = image_dataset_from_directory(VAL_PATH, image_size=(50,50), label_mode='binary',\n",
    "                                  seed=RANDOM_SEED, shuffle=True, batch_size=BATCH_SIZE)\n",
    "test_data = image_dataset_from_directory(TEST_PATH, image_size=(50,50), label_mode='binary',\n",
    "                                  seed=RANDOM_SEED, shuffle=True, batch_size=BATCH_SIZE)"
   ],
   "metadata": {
    "collapsed": false,
    "ExecuteTime": {
     "end_time": "2024-04-22T15:39:31.132068Z",
     "start_time": "2024-04-22T15:39:20.753292Z"
    }
   },
   "id": "4bbf9188aa9e1d41",
   "execution_count": 3
  },
  {
   "cell_type": "code",
   "outputs": [
    {
     "name": "stdout",
     "output_type": "stream",
     "text": [
      "Model: \"sequential_1\"\n",
      "_________________________________________________________________\n",
      " Layer (type)                Output Shape              Param #   \n",
      "=================================================================\n",
      " conv2d (Conv2D)             (None, 48, 48, 32)        896       \n",
      "                                                                 \n",
      " max_pooling2d (MaxPooling2  (None, 24, 24, 32)        0         \n",
      " D)                                                              \n",
      "                                                                 \n",
      " conv2d_1 (Conv2D)           (None, 22, 22, 32)        9248      \n",
      "                                                                 \n",
      " max_pooling2d_1 (MaxPoolin  (None, 11, 11, 32)        0         \n",
      " g2D)                                                            \n",
      "                                                                 \n",
      " conv2d_2 (Conv2D)           (None, 9, 9, 32)          9248      \n",
      "                                                                 \n",
      " max_pooling2d_2 (MaxPoolin  (None, 4, 4, 32)          0         \n",
      " g2D)                                                            \n",
      "                                                                 \n",
      " dropout (Dropout)           (None, 4, 4, 32)          0         \n",
      "                                                                 \n",
      " flatten (Flatten)           (None, 512)               0         \n",
      "                                                                 \n",
      " dense (Dense)               (None, 64)                32832     \n",
      "                                                                 \n",
      " dropout_1 (Dropout)         (None, 64)                0         \n",
      "                                                                 \n",
      " dense_1 (Dense)             (None, 1)                 65        \n",
      "                                                                 \n",
      "=================================================================\n",
      "Total params: 52289 (204.25 KB)\n",
      "Trainable params: 52289 (204.25 KB)\n",
      "Non-trainable params: 0 (0.00 Byte)\n",
      "_________________________________________________________________\n"
     ]
    }
   ],
   "source": [
    "data_augmentation = Sequential([\n",
    "        RandomFlip(\"horizontal_and_vertical\", input_shape=(50, 50, 3)),\n",
    "        RandomRotation(0.2),\n",
    "        RandomZoom(0.3),\n",
    "        RandomTranslation(height_factor=0.2, width_factor=0.2),\n",
    "        Rescaling(1./255),\n",
    "])\n",
    "model = Sequential([\n",
    "  Conv2D(32, 3, activation='relu', input_shape=(50, 50, 3)),\n",
    "  MaxPooling2D(),\n",
    "  Conv2D(32, 3, activation='relu'),\n",
    "  MaxPooling2D(),\n",
    "  Conv2D(32, 3, activation='relu'),\n",
    "  MaxPooling2D(),\n",
    "  Dropout(0.25),\n",
    "  Flatten(),\n",
    "  Dense(64, activation='relu'),\n",
    "  Dropout(0.25),\n",
    "  Dense(1, activation='sigmoid')\n",
    "])\n",
    "model.summary()"
   ],
   "metadata": {
    "collapsed": false,
    "ExecuteTime": {
     "end_time": "2024-04-22T15:39:31.267198Z",
     "start_time": "2024-04-22T15:39:31.137273Z"
    }
   },
   "id": "abcd0fb0c88d66be",
   "execution_count": 4
  },
  {
   "cell_type": "code",
   "outputs": [
    {
     "name": "stdout",
     "output_type": "stream",
     "text": [
      "Model: \"sequential_2\"\n",
      "_________________________________________________________________\n",
      " Layer (type)                Output Shape              Param #   \n",
      "=================================================================\n",
      " sequential (Sequential)     (None, 50, 50, 3)         0         \n",
      "                                                                 \n",
      " sequential_1 (Sequential)   (None, 1)                 52289     \n",
      "                                                                 \n",
      "=================================================================\n",
      "Total params: 52289 (204.25 KB)\n",
      "Trainable params: 52289 (204.25 KB)\n",
      "Non-trainable params: 0 (0.00 Byte)\n",
      "_________________________________________________________________\n"
     ]
    }
   ],
   "source": [
    "whole_system = Sequential([\n",
    "    data_augmentation,\n",
    "    model\n",
    "])\n",
    "whole_system.summary()"
   ],
   "metadata": {
    "collapsed": false,
    "ExecuteTime": {
     "end_time": "2024-04-22T15:39:31.335603Z",
     "start_time": "2024-04-22T15:39:31.268288Z"
    }
   },
   "id": "5d455a82a6a8884a",
   "execution_count": 5
  },
  {
   "cell_type": "code",
   "outputs": [],
   "source": [
    "checkpoint_filepath = 'cnn_models/checkpoint.model.keras'\n",
    "model_checkpoint_callback = tf.keras.callbacks.ModelCheckpoint(\n",
    "    filepath=checkpoint_filepath,\n",
    "    monitor='val_binary_accuracy',\n",
    "    mode='max',\n",
    "    save_best_only=True)\n",
    "\n",
    "limited_computation_callback = tf.keras.callbacks.EarlyStopping(monitor='loss',\n",
    "                                              patience=5)"
   ],
   "metadata": {
    "collapsed": false,
    "ExecuteTime": {
     "end_time": "2024-04-22T15:39:31.337745Z",
     "start_time": "2024-04-22T15:39:31.335631Z"
    }
   },
   "id": "e8a521bf4275643b",
   "execution_count": 6
  },
  {
   "cell_type": "code",
   "outputs": [
    {
     "name": "stdout",
     "output_type": "stream",
     "text": [
      "Epoch 1/2\n",
      "173/173 [==============================] - 139s 786ms/step - loss: 0.9265 - binary_accuracy: 0.6811 - f1_score: 0.4462 - recall_1: 0.8565 - precision_1: 0.4697 - val_loss: 0.4602 - val_binary_accuracy: 0.7988 - val_f1_score: 0.4884 - val_recall_1: 0.6170 - val_precision_1: 0.7201\n",
      "Epoch 2/2\n",
      "173/173 [==============================] - 206s 1s/step - loss: 0.8126 - binary_accuracy: 0.7597 - f1_score: 0.4462 - recall_1: 0.8589 - precision_1: 0.5524 - val_loss: 0.4858 - val_binary_accuracy: 0.7699 - val_f1_score: 0.4884 - val_recall_1: 0.8175 - val_precision_1: 0.6069\n"
     ]
    },
    {
     "data": {
      "text/plain": "<keras.src.callbacks.History at 0x319232cd0>"
     },
     "execution_count": 8,
     "metadata": {},
     "output_type": "execute_result"
    }
   ],
   "source": [
    "whole_system.compile(optimizer='adam',\n",
    "              loss=tf.keras.losses.BinaryCrossentropy(),\n",
    "              metrics=[tf.keras.metrics.BinaryAccuracy(), \n",
    "                       tf.keras.metrics.F1Score(), \n",
    "                       tf.keras.metrics.Recall(), \n",
    "                       tf.keras.metrics.Precision()])\n",
    "  \n",
    "whole_system.fit(train_data, epochs=EPOCHS, validation_data=val_data, \n",
    "                 batch_size=BATCH_SIZE, callbacks=[model_checkpoint_callback, \n",
    "                                                   limited_computation_callback],\n",
    "                 class_weight={\n",
    "                     0: 1., \n",
    "                     1: 4.  # Forces model to treat every cancer same as 4 non cancer \n",
    "                 })"
   ],
   "metadata": {
    "collapsed": false,
    "ExecuteTime": {
     "end_time": "2024-04-22T15:47:26.135275Z",
     "start_time": "2024-04-22T15:41:40.784351Z"
    }
   },
   "id": "366873303b53d3b8",
   "execution_count": 8
  },
  {
   "cell_type": "code",
   "outputs": [
    {
     "name": "stdout",
     "output_type": "stream",
     "text": [
      "51/51 [==============================] - 10s 177ms/step - loss: 0.4761 - binary_accuracy: 0.7870 - f1_score: 0.3807 - recall_1: 0.7642 - precision_1: 0.5328\n"
     ]
    },
    {
     "data": {
      "text/plain": "[0.47605669498443604,\n 0.7870456576347351,\n array([0.3806598], dtype=float32),\n 0.7641751766204834,\n 0.532779335975647]"
     },
     "execution_count": 9,
     "metadata": {},
     "output_type": "execute_result"
    }
   ],
   "source": [
    "whole_system.evaluate(test_data)"
   ],
   "metadata": {
    "collapsed": false,
    "ExecuteTime": {
     "end_time": "2024-04-22T15:47:35.929180Z",
     "start_time": "2024-04-22T15:47:26.152506Z"
    }
   },
   "id": "5bc11c2786410a89",
   "execution_count": 9
  },
  {
   "cell_type": "code",
   "outputs": [],
   "source": [],
   "metadata": {
    "collapsed": false
   },
   "id": "cdb83552d2df21e2"
  }
 ],
 "metadata": {
  "kernelspec": {
   "display_name": "Python 3",
   "language": "python",
   "name": "python3"
  },
  "language_info": {
   "codemirror_mode": {
    "name": "ipython",
    "version": 2
   },
   "file_extension": ".py",
   "mimetype": "text/x-python",
   "name": "python",
   "nbconvert_exporter": "python",
   "pygments_lexer": "ipython2",
   "version": "2.7.6"
  }
 },
 "nbformat": 4,
 "nbformat_minor": 5
}
