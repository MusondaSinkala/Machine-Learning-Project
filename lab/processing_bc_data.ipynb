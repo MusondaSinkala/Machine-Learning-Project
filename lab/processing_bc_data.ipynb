{
 "nbformat": 4,
 "nbformat_minor": 0,
 "metadata": {
  "colab": {
   "provenance": []
  },
  "kernelspec": {
   "name": "python3",
   "display_name": "Python 3"
  },
  "language_info": {
   "name": "python"
  }
 },
 "cells": [
  {
   "cell_type": "markdown",
   "source": [
    "### Install Requirements"
   ],
   "metadata": {
    "id": "car46zM5EwYq"
   }
  },
  {
   "cell_type": "code",
   "source": [
    "! git clone -b stein_preprocessing https://github.com/MusondaSinkala/Machine-Learning-Project.git"
   ],
   "metadata": {
    "colab": {
     "base_uri": "https://localhost:8080/"
    },
    "id": "3OXaAtsGGUp7",
    "outputId": "157f3533-76aa-45e5-e86d-2bdd49f41c5e"
   },
   "execution_count": 1,
   "outputs": [
    {
     "output_type": "stream",
     "name": "stdout",
     "text": [
      "fatal: destination path 'Machine-Learning-Project' already exists and is not an empty directory.\n"
     ]
    }
   ]
  },
  {
   "cell_type": "code",
   "source": [
    "# ! pip install -r ./Machine-Learning-Project/requirements.txt"
   ],
   "metadata": {
    "id": "JtNapPAgEwD5"
   },
   "execution_count": 2,
   "outputs": []
  },
  {
   "cell_type": "markdown",
   "source": [
    "### Download Data from kaggle"
   ],
   "metadata": {
    "id": "wnR5_KICEbuH"
   }
  },
  {
   "cell_type": "code",
   "execution_count": 3,
   "metadata": {
    "id": "_68dOkLuD--U"
   },
   "outputs": [],
   "source": [
    "# from google.colab import userdata\n",
    "# import os\n",
    "\n",
    "# os.environ[\"KAGGLE_KEY\"] = userdata.get('KAGGLE_KEY')\n",
    "# os.environ[\"KAGGLE_USERNAME\"] = userdata.get('KAGGLE_USERNAME')"
   ]
  },
  {
   "cell_type": "code",
   "source": [
    "# %cd ../\n",
    "# ! kaggle datasets download paultimothymooney/breast-histopathology-images"
   ],
   "metadata": {
    "id": "s8-eR6dxEez-"
   },
   "execution_count": 4,
   "outputs": []
  },
  {
   "cell_type": "code",
   "source": [
    "# ! unzip \"/content/breast-histopathology-images.zip\" -d \"/content/Data\""
   ],
   "metadata": {
    "id": "L-9dOQcZKifl"
   },
   "execution_count": 5,
   "outputs": []
  },
  {
   "cell_type": "markdown",
   "source": [
    "### Extract features"
   ],
   "metadata": {
    "id": "JZz3VSI-JxYq"
   }
  },
  {
   "cell_type": "code",
   "source": [
    "%cd Machine-Learning-Project/"
   ],
   "metadata": {
    "colab": {
     "base_uri": "https://localhost:8080/"
    },
    "id": "Zn1KXokpbzHH",
    "outputId": "e3462fa3-832a-475c-edf8-5ae938a06c3e"
   },
   "execution_count": 6,
   "outputs": [
    {
     "output_type": "stream",
     "name": "stdout",
     "text": [
      "/content/Machine-Learning-Project\n"
     ]
    }
   ]
  },
  {
   "cell_type": "code",
   "source": [
    "import cv2\n",
    "import os\n",
    "import pandas as pd\n",
    "from preprocessing.feature_extraction import ImageFeatureExtractor, extract_details_from_path"
   ],
   "metadata": {
    "id": "tCEXjp2uIS5L"
   },
   "execution_count": 7,
   "outputs": []
  },
  {
   "cell_type": "code",
   "source": [
    "df = pd.DataFrame(os.walk('/content/breast-histopathology-images'), columns=['directory_path', 'directory_name', 'files'])\n",
    "df = df[df['files'].map(len) > 0]\n",
    "df = df[['directory_path', 'files']]\n",
    "df = df.explode('files')"
   ],
   "metadata": {
    "id": "MPtOE9ZSZMgO"
   },
   "execution_count": 8,
   "outputs": []
  },
  {
   "cell_type": "code",
   "source": [
    "feature_extraction = ImageFeatureExtractor()\n",
    "def extract_features(directory: str, filename: str):\n",
    "  img_path = os.path.join(directory, filename)\n",
    "  img = cv2.imread(img_path)\n",
    "  return feature_extraction(img) + list(extract_details_from_path(filename))\n",
    "\n"
   ],
   "metadata": {
    "id": "sTckvszkWlb_"
   },
   "execution_count": 9,
   "outputs": []
  },
  {
   "cell_type": "code",
   "source": [
    "columns = ['MPI', 'SDPI', 'OTV', 'LM', 'UPP', 'LPP', 'PatientID', 'Xcoords', 'Ycoords', 'cancer']\n",
    "df[columns] = df.apply(lambda x: extract_features(x['directory_path'], x['files']), axis=1, result_type='expand')"
   ],
   "metadata": {
    "id": "-jS2kPwjSrWZ"
   },
   "execution_count": 10,
   "outputs": []
  },
  {
   "cell_type": "code",
   "source": [
    "df.head()"
   ],
   "metadata": {
    "colab": {
     "base_uri": "https://localhost:8080/",
     "height": 206
    },
    "id": "5XrJ6sehUfDh",
    "outputId": "90cc4b95-702c-4f06-ddfa-21388e2c402c"
   },
   "execution_count": 14,
   "outputs": [
    {
     "output_type": "execute_result",
     "data": {
      "text/plain": [
       "                                  directory_path  \\\n",
       "2  /content/breast-histopathology-images/16553/0   \n",
       "2  /content/breast-histopathology-images/16553/0   \n",
       "2  /content/breast-histopathology-images/16553/0   \n",
       "2  /content/breast-histopathology-images/16553/0   \n",
       "2  /content/breast-histopathology-images/16553/0   \n",
       "\n",
       "                               files       MPI       SDPI    OTV  LM    UPP  \\\n",
       "2   16553_idx5_x1901_y651_class0.png  216.6524  37.262769  191.0   1  77.24   \n",
       "2   16553_idx5_x1251_y201_class0.png  203.7960  48.483102  179.0   1  69.80   \n",
       "2   16553_idx5_x451_y1501_class0.png  183.1436  51.854093  182.0   1  46.84   \n",
       "2   16553_idx5_x1501_y351_class0.png  161.4748  39.490158  184.0   1  17.96   \n",
       "2  16553_idx5_x1401_y1601_class0.png  180.2956  24.432655  188.0   1  20.76   \n",
       "\n",
       "    LPP PatientID  Xcoords  Ycoords  cancer  \n",
       "2  2.56     16553     1901      651       0  \n",
       "2  3.64     16553     1251      201       0  \n",
       "2  9.24     16553      451     1501       0  \n",
       "2  4.40     16553     1501      351       0  \n",
       "2  0.08     16553     1401     1601       0  "
      ],
      "text/html": [
       "\n",
       "  <div id=\"df-5097ffe5-4d8d-4dec-8d39-939004b30ee3\" class=\"colab-df-container\">\n",
       "    <div>\n",
       "<style scoped>\n",
       "    .dataframe tbody tr th:only-of-type {\n",
       "        vertical-align: middle;\n",
       "    }\n",
       "\n",
       "    .dataframe tbody tr th {\n",
       "        vertical-align: top;\n",
       "    }\n",
       "\n",
       "    .dataframe thead th {\n",
       "        text-align: right;\n",
       "    }\n",
       "</style>\n",
       "<table border=\"1\" class=\"dataframe\">\n",
       "  <thead>\n",
       "    <tr style=\"text-align: right;\">\n",
       "      <th></th>\n",
       "      <th>directory_path</th>\n",
       "      <th>files</th>\n",
       "      <th>MPI</th>\n",
       "      <th>SDPI</th>\n",
       "      <th>OTV</th>\n",
       "      <th>LM</th>\n",
       "      <th>UPP</th>\n",
       "      <th>LPP</th>\n",
       "      <th>PatientID</th>\n",
       "      <th>Xcoords</th>\n",
       "      <th>Ycoords</th>\n",
       "      <th>cancer</th>\n",
       "    </tr>\n",
       "  </thead>\n",
       "  <tbody>\n",
       "    <tr>\n",
       "      <th>2</th>\n",
       "      <td>/content/breast-histopathology-images/16553/0</td>\n",
       "      <td>16553_idx5_x1901_y651_class0.png</td>\n",
       "      <td>216.6524</td>\n",
       "      <td>37.262769</td>\n",
       "      <td>191.0</td>\n",
       "      <td>1</td>\n",
       "      <td>77.24</td>\n",
       "      <td>2.56</td>\n",
       "      <td>16553</td>\n",
       "      <td>1901</td>\n",
       "      <td>651</td>\n",
       "      <td>0</td>\n",
       "    </tr>\n",
       "    <tr>\n",
       "      <th>2</th>\n",
       "      <td>/content/breast-histopathology-images/16553/0</td>\n",
       "      <td>16553_idx5_x1251_y201_class0.png</td>\n",
       "      <td>203.7960</td>\n",
       "      <td>48.483102</td>\n",
       "      <td>179.0</td>\n",
       "      <td>1</td>\n",
       "      <td>69.80</td>\n",
       "      <td>3.64</td>\n",
       "      <td>16553</td>\n",
       "      <td>1251</td>\n",
       "      <td>201</td>\n",
       "      <td>0</td>\n",
       "    </tr>\n",
       "    <tr>\n",
       "      <th>2</th>\n",
       "      <td>/content/breast-histopathology-images/16553/0</td>\n",
       "      <td>16553_idx5_x451_y1501_class0.png</td>\n",
       "      <td>183.1436</td>\n",
       "      <td>51.854093</td>\n",
       "      <td>182.0</td>\n",
       "      <td>1</td>\n",
       "      <td>46.84</td>\n",
       "      <td>9.24</td>\n",
       "      <td>16553</td>\n",
       "      <td>451</td>\n",
       "      <td>1501</td>\n",
       "      <td>0</td>\n",
       "    </tr>\n",
       "    <tr>\n",
       "      <th>2</th>\n",
       "      <td>/content/breast-histopathology-images/16553/0</td>\n",
       "      <td>16553_idx5_x1501_y351_class0.png</td>\n",
       "      <td>161.4748</td>\n",
       "      <td>39.490158</td>\n",
       "      <td>184.0</td>\n",
       "      <td>1</td>\n",
       "      <td>17.96</td>\n",
       "      <td>4.40</td>\n",
       "      <td>16553</td>\n",
       "      <td>1501</td>\n",
       "      <td>351</td>\n",
       "      <td>0</td>\n",
       "    </tr>\n",
       "    <tr>\n",
       "      <th>2</th>\n",
       "      <td>/content/breast-histopathology-images/16553/0</td>\n",
       "      <td>16553_idx5_x1401_y1601_class0.png</td>\n",
       "      <td>180.2956</td>\n",
       "      <td>24.432655</td>\n",
       "      <td>188.0</td>\n",
       "      <td>1</td>\n",
       "      <td>20.76</td>\n",
       "      <td>0.08</td>\n",
       "      <td>16553</td>\n",
       "      <td>1401</td>\n",
       "      <td>1601</td>\n",
       "      <td>0</td>\n",
       "    </tr>\n",
       "  </tbody>\n",
       "</table>\n",
       "</div>\n",
       "    <div class=\"colab-df-buttons\">\n",
       "\n",
       "  <div class=\"colab-df-container\">\n",
       "    <button class=\"colab-df-convert\" onclick=\"convertToInteractive('df-5097ffe5-4d8d-4dec-8d39-939004b30ee3')\"\n",
       "            title=\"Convert this dataframe to an interactive table.\"\n",
       "            style=\"display:none;\">\n",
       "\n",
       "  <svg xmlns=\"http://www.w3.org/2000/svg\" height=\"24px\" viewBox=\"0 -960 960 960\">\n",
       "    <path d=\"M120-120v-720h720v720H120Zm60-500h600v-160H180v160Zm220 220h160v-160H400v160Zm0 220h160v-160H400v160ZM180-400h160v-160H180v160Zm440 0h160v-160H620v160ZM180-180h160v-160H180v160Zm440 0h160v-160H620v160Z\"/>\n",
       "  </svg>\n",
       "    </button>\n",
       "\n",
       "  <style>\n",
       "    .colab-df-container {\n",
       "      display:flex;\n",
       "      gap: 12px;\n",
       "    }\n",
       "\n",
       "    .colab-df-convert {\n",
       "      background-color: #E8F0FE;\n",
       "      border: none;\n",
       "      border-radius: 50%;\n",
       "      cursor: pointer;\n",
       "      display: none;\n",
       "      fill: #1967D2;\n",
       "      height: 32px;\n",
       "      padding: 0 0 0 0;\n",
       "      width: 32px;\n",
       "    }\n",
       "\n",
       "    .colab-df-convert:hover {\n",
       "      background-color: #E2EBFA;\n",
       "      box-shadow: 0px 1px 2px rgba(60, 64, 67, 0.3), 0px 1px 3px 1px rgba(60, 64, 67, 0.15);\n",
       "      fill: #174EA6;\n",
       "    }\n",
       "\n",
       "    .colab-df-buttons div {\n",
       "      margin-bottom: 4px;\n",
       "    }\n",
       "\n",
       "    [theme=dark] .colab-df-convert {\n",
       "      background-color: #3B4455;\n",
       "      fill: #D2E3FC;\n",
       "    }\n",
       "\n",
       "    [theme=dark] .colab-df-convert:hover {\n",
       "      background-color: #434B5C;\n",
       "      box-shadow: 0px 1px 3px 1px rgba(0, 0, 0, 0.15);\n",
       "      filter: drop-shadow(0px 1px 2px rgba(0, 0, 0, 0.3));\n",
       "      fill: #FFFFFF;\n",
       "    }\n",
       "  </style>\n",
       "\n",
       "    <script>\n",
       "      const buttonEl =\n",
       "        document.querySelector('#df-5097ffe5-4d8d-4dec-8d39-939004b30ee3 button.colab-df-convert');\n",
       "      buttonEl.style.display =\n",
       "        google.colab.kernel.accessAllowed ? 'block' : 'none';\n",
       "\n",
       "      async function convertToInteractive(key) {\n",
       "        const element = document.querySelector('#df-5097ffe5-4d8d-4dec-8d39-939004b30ee3');\n",
       "        const dataTable =\n",
       "          await google.colab.kernel.invokeFunction('convertToInteractive',\n",
       "                                                    [key], {});\n",
       "        if (!dataTable) return;\n",
       "\n",
       "        const docLinkHtml = 'Like what you see? Visit the ' +\n",
       "          '<a target=\"_blank\" href=https://colab.research.google.com/notebooks/data_table.ipynb>data table notebook</a>'\n",
       "          + ' to learn more about interactive tables.';\n",
       "        element.innerHTML = '';\n",
       "        dataTable['output_type'] = 'display_data';\n",
       "        await google.colab.output.renderOutput(dataTable, element);\n",
       "        const docLink = document.createElement('div');\n",
       "        docLink.innerHTML = docLinkHtml;\n",
       "        element.appendChild(docLink);\n",
       "      }\n",
       "    </script>\n",
       "  </div>\n",
       "\n",
       "\n",
       "<div id=\"df-b8181043-49de-4f38-9cb0-44804ad4063e\">\n",
       "  <button class=\"colab-df-quickchart\" onclick=\"quickchart('df-b8181043-49de-4f38-9cb0-44804ad4063e')\"\n",
       "            title=\"Suggest charts\"\n",
       "            style=\"display:none;\">\n",
       "\n",
       "<svg xmlns=\"http://www.w3.org/2000/svg\" height=\"24px\"viewBox=\"0 0 24 24\"\n",
       "     width=\"24px\">\n",
       "    <g>\n",
       "        <path d=\"M19 3H5c-1.1 0-2 .9-2 2v14c0 1.1.9 2 2 2h14c1.1 0 2-.9 2-2V5c0-1.1-.9-2-2-2zM9 17H7v-7h2v7zm4 0h-2V7h2v10zm4 0h-2v-4h2v4z\"/>\n",
       "    </g>\n",
       "</svg>\n",
       "  </button>\n",
       "\n",
       "<style>\n",
       "  .colab-df-quickchart {\n",
       "      --bg-color: #E8F0FE;\n",
       "      --fill-color: #1967D2;\n",
       "      --hover-bg-color: #E2EBFA;\n",
       "      --hover-fill-color: #174EA6;\n",
       "      --disabled-fill-color: #AAA;\n",
       "      --disabled-bg-color: #DDD;\n",
       "  }\n",
       "\n",
       "  [theme=dark] .colab-df-quickchart {\n",
       "      --bg-color: #3B4455;\n",
       "      --fill-color: #D2E3FC;\n",
       "      --hover-bg-color: #434B5C;\n",
       "      --hover-fill-color: #FFFFFF;\n",
       "      --disabled-bg-color: #3B4455;\n",
       "      --disabled-fill-color: #666;\n",
       "  }\n",
       "\n",
       "  .colab-df-quickchart {\n",
       "    background-color: var(--bg-color);\n",
       "    border: none;\n",
       "    border-radius: 50%;\n",
       "    cursor: pointer;\n",
       "    display: none;\n",
       "    fill: var(--fill-color);\n",
       "    height: 32px;\n",
       "    padding: 0;\n",
       "    width: 32px;\n",
       "  }\n",
       "\n",
       "  .colab-df-quickchart:hover {\n",
       "    background-color: var(--hover-bg-color);\n",
       "    box-shadow: 0 1px 2px rgba(60, 64, 67, 0.3), 0 1px 3px 1px rgba(60, 64, 67, 0.15);\n",
       "    fill: var(--button-hover-fill-color);\n",
       "  }\n",
       "\n",
       "  .colab-df-quickchart-complete:disabled,\n",
       "  .colab-df-quickchart-complete:disabled:hover {\n",
       "    background-color: var(--disabled-bg-color);\n",
       "    fill: var(--disabled-fill-color);\n",
       "    box-shadow: none;\n",
       "  }\n",
       "\n",
       "  .colab-df-spinner {\n",
       "    border: 2px solid var(--fill-color);\n",
       "    border-color: transparent;\n",
       "    border-bottom-color: var(--fill-color);\n",
       "    animation:\n",
       "      spin 1s steps(1) infinite;\n",
       "  }\n",
       "\n",
       "  @keyframes spin {\n",
       "    0% {\n",
       "      border-color: transparent;\n",
       "      border-bottom-color: var(--fill-color);\n",
       "      border-left-color: var(--fill-color);\n",
       "    }\n",
       "    20% {\n",
       "      border-color: transparent;\n",
       "      border-left-color: var(--fill-color);\n",
       "      border-top-color: var(--fill-color);\n",
       "    }\n",
       "    30% {\n",
       "      border-color: transparent;\n",
       "      border-left-color: var(--fill-color);\n",
       "      border-top-color: var(--fill-color);\n",
       "      border-right-color: var(--fill-color);\n",
       "    }\n",
       "    40% {\n",
       "      border-color: transparent;\n",
       "      border-right-color: var(--fill-color);\n",
       "      border-top-color: var(--fill-color);\n",
       "    }\n",
       "    60% {\n",
       "      border-color: transparent;\n",
       "      border-right-color: var(--fill-color);\n",
       "    }\n",
       "    80% {\n",
       "      border-color: transparent;\n",
       "      border-right-color: var(--fill-color);\n",
       "      border-bottom-color: var(--fill-color);\n",
       "    }\n",
       "    90% {\n",
       "      border-color: transparent;\n",
       "      border-bottom-color: var(--fill-color);\n",
       "    }\n",
       "  }\n",
       "</style>\n",
       "\n",
       "  <script>\n",
       "    async function quickchart(key) {\n",
       "      const quickchartButtonEl =\n",
       "        document.querySelector('#' + key + ' button');\n",
       "      quickchartButtonEl.disabled = true;  // To prevent multiple clicks.\n",
       "      quickchartButtonEl.classList.add('colab-df-spinner');\n",
       "      try {\n",
       "        const charts = await google.colab.kernel.invokeFunction(\n",
       "            'suggestCharts', [key], {});\n",
       "      } catch (error) {\n",
       "        console.error('Error during call to suggestCharts:', error);\n",
       "      }\n",
       "      quickchartButtonEl.classList.remove('colab-df-spinner');\n",
       "      quickchartButtonEl.classList.add('colab-df-quickchart-complete');\n",
       "    }\n",
       "    (() => {\n",
       "      let quickchartButtonEl =\n",
       "        document.querySelector('#df-b8181043-49de-4f38-9cb0-44804ad4063e button');\n",
       "      quickchartButtonEl.style.display =\n",
       "        google.colab.kernel.accessAllowed ? 'block' : 'none';\n",
       "    })();\n",
       "  </script>\n",
       "</div>\n",
       "    </div>\n",
       "  </div>\n"
      ],
      "application/vnd.google.colaboratory.intrinsic+json": {
       "type": "dataframe",
       "variable_name": "df"
      }
     },
     "metadata": {},
     "execution_count": 14
    }
   ]
  },
  {
   "cell_type": "code",
   "source": [
    "df.to_csv('histopathological_data.csv', header=True, index=False)"
   ],
   "metadata": {
    "id": "7d3KbcfPU8Ur"
   },
   "execution_count": 15,
   "outputs": []
  },
  {
   "cell_type": "code",
   "source": [
    "df.shape"
   ],
   "metadata": {
    "colab": {
     "base_uri": "https://localhost:8080/"
    },
    "id": "hM6RPEYYh-E4",
    "outputId": "5d5e3484-9b9c-41f7-8b18-1e9822a3ce57"
   },
   "execution_count": 16,
   "outputs": [
    {
     "output_type": "execute_result",
     "data": {
      "text/plain": [
       "(555048, 12)"
      ]
     },
     "metadata": {},
     "execution_count": 16
    }
   ]
  },
  {
   "cell_type": "code",
   "source": [
    "555048/2"
   ],
   "metadata": {
    "colab": {
     "base_uri": "https://localhost:8080/"
    },
    "id": "LQylbwVd9vDe",
    "outputId": "69992c37-fd25-4e12-8e87-be3bc0351768"
   },
   "execution_count": 17,
   "outputs": [
    {
     "output_type": "execute_result",
     "data": {
      "text/plain": [
       "277524.0"
      ]
     },
     "metadata": {},
     "execution_count": 17
    }
   ]
  },
  {
   "cell_type": "code",
   "source": [],
   "metadata": {
    "id": "-ba7PYe39wXE"
   },
   "execution_count": null,
   "outputs": []
  }
 ]
}
